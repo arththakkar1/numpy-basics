{
 "cells": [
  {
   "cell_type": "markdown",
   "id": "f61a1dd3",
   "metadata": {},
   "source": [
    "### How to save Numpy array"
   ]
  },
  {
   "cell_type": "code",
   "execution_count": 1,
   "id": "2ef98542",
   "metadata": {},
   "outputs": [],
   "source": [
    "import numpy as np"
   ]
  },
  {
   "cell_type": "code",
   "execution_count": 4,
   "id": "9dee3e1c",
   "metadata": {},
   "outputs": [
    {
     "name": "stdout",
     "output_type": "stream",
     "text": [
      "Array:\n",
      " [[0.71747968 0.34631584]\n",
      " [0.50058011 0.69239516]]\n"
     ]
    }
   ],
   "source": [
    "Array=np.random.rand(2,2)\n",
    "print(\"Array:\\n\",Array)"
   ]
  },
  {
   "cell_type": "code",
   "execution_count": 5,
   "id": "6dfdacf5",
   "metadata": {},
   "outputs": [],
   "source": [
    "np.save('Array.npy',Array)"
   ]
  },
  {
   "cell_type": "code",
   "execution_count": 6,
   "id": "46369a98",
   "metadata": {},
   "outputs": [
    {
     "name": "stdout",
     "output_type": "stream",
     "text": [
      "Loaded Array:\n",
      " [[0.71747968 0.34631584]\n",
      " [0.50058011 0.69239516]]\n"
     ]
    }
   ],
   "source": [
    "Load_Array=np.load('Array.npy')\n",
    "print(\"Loaded Array:\\n\",Load_Array)"
   ]
  }
 ],
 "metadata": {
  "kernelspec": {
   "display_name": ".venv",
   "language": "python",
   "name": "python3"
  },
  "language_info": {
   "codemirror_mode": {
    "name": "ipython",
    "version": 3
   },
   "file_extension": ".py",
   "mimetype": "text/x-python",
   "name": "python",
   "nbconvert_exporter": "python",
   "pygments_lexer": "ipython3",
   "version": "3.13.5"
  }
 },
 "nbformat": 4,
 "nbformat_minor": 5
}
